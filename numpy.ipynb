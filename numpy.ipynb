{
  "nbformat": 4,
  "nbformat_minor": 0,
  "metadata": {
    "colab": {
      "provenance": []
    },
    "kernelspec": {
      "name": "python3",
      "display_name": "Python 3"
    },
    "language_info": {
      "name": "python"
    }
  },
  "cells": [
    {
      "cell_type": "code",
      "execution_count": 1,
      "metadata": {
        "id": "z2jLweAnSqUn"
      },
      "outputs": [],
      "source": [
        "# Import NumPy as its abbreviation 'np'\n",
        "import numpy as np\n"
      ]
    },
    {
      "cell_type": "code",
      "source": [
        "my_list = [1,2,3,4,5]\n",
        "type(my_list)"
      ],
      "metadata": {
        "colab": {
          "base_uri": "https://localhost:8080/"
        },
        "id": "vT13pvtuS9js",
        "outputId": "6330b016-e41c-4d0a-9dee-cf8f26e498f4"
      },
      "execution_count": 2,
      "outputs": [
        {
          "output_type": "execute_result",
          "data": {
            "text/plain": [
              "list"
            ]
          },
          "metadata": {},
          "execution_count": 2
        }
      ]
    },
    {
      "cell_type": "code",
      "source": [
        "# Creating a 1-dimensional array\n",
        "arr = np.array([1, 2, 3, 4, 5])\n",
        "\n",
        "print(arr)"
      ],
      "metadata": {
        "colab": {
          "base_uri": "https://localhost:8080/"
        },
        "id": "ad-UNfDhTGvs",
        "outputId": "6a4c4808-dc9e-4909-f5ee-fd29e360f20e"
      },
      "execution_count": 3,
      "outputs": [
        {
          "output_type": "stream",
          "name": "stdout",
          "text": [
            "[1 2 3 4 5]\n"
          ]
        }
      ]
    },
    {
      "cell_type": "code",
      "source": [
        "# Creating a 2-dimensional array\n",
        "arr_2d = np.array([[1, 2, 3], [4, 5, 6]])\n",
        "\n",
        "print(arr_2d)"
      ],
      "metadata": {
        "colab": {
          "base_uri": "https://localhost:8080/"
        },
        "id": "s_4RdJUZTxIC",
        "outputId": "a97d8019-d300-4475-f196-466444891763"
      },
      "execution_count": 4,
      "outputs": [
        {
          "output_type": "stream",
          "name": "stdout",
          "text": [
            "[[1 2 3]\n",
            " [4 5 6]]\n"
          ]
        }
      ]
    },
    {
      "cell_type": "code",
      "source": [
        "# Creating a 3-dimensional array\n",
        "arr_3d = np.array([[[1, 2], [3, 4]],\n",
        "                   [[5, 6], [7, 8]]])\n",
        "print(arr_3d)"
      ],
      "metadata": {
        "colab": {
          "base_uri": "https://localhost:8080/"
        },
        "id": "6Q00eJ8hT6Ay",
        "outputId": "efb2b4b6-14f7-4aa6-a635-97d9068aba48"
      },
      "execution_count": 6,
      "outputs": [
        {
          "output_type": "stream",
          "name": "stdout",
          "text": [
            "[[[1 2]\n",
            "  [3 4]]\n",
            "\n",
            " [[5 6]\n",
            "  [7 8]]]\n"
          ]
        }
      ]
    },
    {
      "cell_type": "code",
      "source": [
        "import numpy as np\n",
        "\n",
        "# Creating a 1-dimensional array\n",
        "arr = np.array([10, 20, 30, 40, 50])\n",
        "\n",
        "# Attributes\n",
        "print(\"Array:\", arr)\n",
        "print(\"Shape:\", arr.shape)           # Tuple of array dimensions\n",
        "print(\"Number of Dimensions:\", arr.ndim)  # Number of axes (dimensions)\n",
        "print(\"Data Type:\", arr.dtype)       # Data type of elements\n",
        "print(\"Size:\", arr.size)             # Total number of elements\n",
        "print(\"Type:\", type(arr))            # Type of the object (should be <class 'numpy.ndarray'>)\n"
      ],
      "metadata": {
        "colab": {
          "base_uri": "https://localhost:8080/"
        },
        "id": "nSyMdnG4UEnV",
        "outputId": "fd11f204-0af0-45b7-9f09-b6f4aa8c4ffd"
      },
      "execution_count": 7,
      "outputs": [
        {
          "output_type": "stream",
          "name": "stdout",
          "text": [
            "Array: [10 20 30 40 50]\n",
            "Shape: (5,)\n",
            "Number of Dimensions: 1\n",
            "Data Type: int64\n",
            "Size: 5\n",
            "Type: <class 'numpy.ndarray'>\n"
          ]
        }
      ]
    },
    {
      "cell_type": "code",
      "source": [
        "import numpy as np\n",
        "\n",
        "# Creating a 2-dimensional array\n",
        "arr_2d = np.array([[1, 2, 3], [4, 5, 6]])\n",
        "\n",
        "# Attributes\n",
        "print(\"Array:\\n\", arr_2d)\n",
        "print(\"Shape:\", arr_2d.shape)         # (rows, columns)\n",
        "print(\"Number of Dimensions:\", arr_2d.ndim)  # 2\n",
        "print(\"Data Type:\", arr_2d.dtype)     # e.g., int64 or int32\n",
        "print(\"Size:\", arr_2d.size)           # Total number of elements\n",
        "print(\"Type:\", type(arr_2d))          # <class 'numpy.ndarray'>\n"
      ],
      "metadata": {
        "colab": {
          "base_uri": "https://localhost:8080/"
        },
        "id": "-cAtNyz2Uoga",
        "outputId": "845ede58-edc7-47f9-dbeb-721743b94f0a"
      },
      "execution_count": 8,
      "outputs": [
        {
          "output_type": "stream",
          "name": "stdout",
          "text": [
            "Array:\n",
            " [[1 2 3]\n",
            " [4 5 6]]\n",
            "Shape: (2, 3)\n",
            "Number of Dimensions: 2\n",
            "Data Type: int64\n",
            "Size: 6\n",
            "Type: <class 'numpy.ndarray'>\n"
          ]
        }
      ]
    },
    {
      "cell_type": "code",
      "source": [
        "import numpy as np\n",
        "\n",
        "# Creating a 3-dimensional array\n",
        "arr_3d = np.array([\n",
        "    [[1, 2], [3, 4]],\n",
        "    [[5, 6], [7, 8]]\n",
        "])\n",
        "\n",
        "# Attributes\n",
        "print(\"Array:\\n\", arr_3d)\n",
        "print(\"Shape:\", arr_3d.shape)         # (depth, rows, columns)\n",
        "print(\"Number of Dimensions:\", arr_3d.ndim)  # 3\n",
        "print(\"Data Type:\", arr_3d.dtype)     # e.g., int64\n",
        "print(\"Size:\", arr_3d.size)           # Total number of elements\n",
        "print(\"Type:\", type(arr_3d))          # <class 'numpy.ndarray'>\n"
      ],
      "metadata": {
        "colab": {
          "base_uri": "https://localhost:8080/"
        },
        "id": "WNaBqwyIU0gI",
        "outputId": "8f8a41de-9f94-45d4-9ef9-191058882ea5"
      },
      "execution_count": 9,
      "outputs": [
        {
          "output_type": "stream",
          "name": "stdout",
          "text": [
            "Array:\n",
            " [[[1 2]\n",
            "  [3 4]]\n",
            "\n",
            " [[5 6]\n",
            "  [7 8]]]\n",
            "Shape: (2, 2, 2)\n",
            "Number of Dimensions: 3\n",
            "Data Type: int64\n",
            "Size: 8\n",
            "Type: <class 'numpy.ndarray'>\n"
          ]
        }
      ]
    },
    {
      "cell_type": "code",
      "source": [
        "import numpy as np\n",
        "import pandas as pd\n",
        "\n",
        "# 2-dimensional NumPy array\n",
        "arr_2d = np.array([[1, 2, 3], [4, 5, 6]])\n",
        "\n",
        "# Create a DataFrame from the array\n",
        "df = pd.DataFrame(arr_2d, columns=['A', 'B', 'C'])  # Optional: add column names\n",
        "\n",
        "# Display the DataFrame\n",
        "print(df)\n"
      ],
      "metadata": {
        "colab": {
          "base_uri": "https://localhost:8080/"
        },
        "id": "bEOoDT6sU2uR",
        "outputId": "ed652aa9-55e0-4203-d867-f7cab7ceb894"
      },
      "execution_count": 10,
      "outputs": [
        {
          "output_type": "stream",
          "name": "stdout",
          "text": [
            "   A  B  C\n",
            "0  1  2  3\n",
            "1  4  5  6\n"
          ]
        }
      ]
    },
    {
      "cell_type": "code",
      "source": [
        "# Create an array of shape (10, 2) with only ones\n",
        "import numpy as np\n",
        "\n",
        "# Create an array of shape (10, 2) filled with ones\n",
        "ones_array = np.ones((10, 2))\n",
        "\n",
        "print(ones_array)\n"
      ],
      "metadata": {
        "colab": {
          "base_uri": "https://localhost:8080/"
        },
        "id": "qchaRBpHVlms",
        "outputId": "bba6e8fa-3af2-4f28-ab71-5fafe8f8c77e"
      },
      "execution_count": 11,
      "outputs": [
        {
          "output_type": "stream",
          "name": "stdout",
          "text": [
            "[[1. 1.]\n",
            " [1. 1.]\n",
            " [1. 1.]\n",
            " [1. 1.]\n",
            " [1. 1.]\n",
            " [1. 1.]\n",
            " [1. 1.]\n",
            " [1. 1.]\n",
            " [1. 1.]\n",
            " [1. 1.]]\n"
          ]
        }
      ]
    },
    {
      "cell_type": "code",
      "source": [
        "# Create an array of shape (7, 2, 3) of only zeros\n",
        "zeros_array = np.zeros((7, 2,3))\n",
        "\n",
        "print(zeros_array)\n",
        "\n"
      ],
      "metadata": {
        "colab": {
          "base_uri": "https://localhost:8080/"
        },
        "id": "cF7K-YaXVrzU",
        "outputId": "a2d4c6b9-899d-4ce2-9191-7c58e4ae5d9a"
      },
      "execution_count": 13,
      "outputs": [
        {
          "output_type": "stream",
          "name": "stdout",
          "text": [
            "[[[0. 0. 0.]\n",
            "  [0. 0. 0.]]\n",
            "\n",
            " [[0. 0. 0.]\n",
            "  [0. 0. 0.]]\n",
            "\n",
            " [[0. 0. 0.]\n",
            "  [0. 0. 0.]]\n",
            "\n",
            " [[0. 0. 0.]\n",
            "  [0. 0. 0.]]\n",
            "\n",
            " [[0. 0. 0.]\n",
            "  [0. 0. 0.]]\n",
            "\n",
            " [[0. 0. 0.]\n",
            "  [0. 0. 0.]]\n",
            "\n",
            " [[0. 0. 0.]\n",
            "  [0. 0. 0.]]]\n"
          ]
        }
      ]
    },
    {
      "cell_type": "code",
      "source": [
        "# Create an array within a range of 0 and 100 with step 3\n",
        "import numpy as np\n",
        "\n",
        "# Create array from 0 to 100 with step 3\n",
        "range_array = np.arange(0, 100, 3)\n",
        "\n",
        "print(range_array)\n"
      ],
      "metadata": {
        "colab": {
          "base_uri": "https://localhost:8080/"
        },
        "id": "HBJlVGDBgm8A",
        "outputId": "1f0ef9e3-cc88-4734-ecd8-bbbd1998a0a2"
      },
      "execution_count": 14,
      "outputs": [
        {
          "output_type": "stream",
          "name": "stdout",
          "text": [
            "[ 0  3  6  9 12 15 18 21 24 27 30 33 36 39 42 45 48 51 54 57 60 63 66 69\n",
            " 72 75 78 81 84 87 90 93 96 99]\n"
          ]
        }
      ]
    },
    {
      "cell_type": "code",
      "source": [
        "# Create a random array with numbers between 0 and 10 of size (7, 2)\n",
        "import numpy as np\n",
        "\n",
        "# Create random integer array with values from 0 to 9 (10 excluded)\n",
        "random_array = np.random.randint(0, 10, size=(7, 2))\n",
        "\n",
        "print(random_array)\n"
      ],
      "metadata": {
        "colab": {
          "base_uri": "https://localhost:8080/"
        },
        "id": "xl45bYIzg2EF",
        "outputId": "75badfe3-d91f-4e6e-d1ab-5cce88ce4a28"
      },
      "execution_count": 15,
      "outputs": [
        {
          "output_type": "stream",
          "name": "stdout",
          "text": [
            "[[7 9]\n",
            " [4 4]\n",
            " [2 3]\n",
            " [6 1]\n",
            " [0 9]\n",
            " [5 9]\n",
            " [4 8]]\n"
          ]
        }
      ]
    },
    {
      "cell_type": "code",
      "source": [
        "# Create a random array of floats between 0 & 1 of shape (3, 5)\n",
        "import numpy as np\n",
        "\n",
        "# Create random float array between 0 and 1 with shape (3, 5)\n",
        "random_floats = np.random.rand(3, 5)\n",
        "\n",
        "print(random_floats)\n"
      ],
      "metadata": {
        "colab": {
          "base_uri": "https://localhost:8080/"
        },
        "id": "5osRlHFlhJZO",
        "outputId": "45d3c232-dfa6-4508-fdbe-819d93476e68"
      },
      "execution_count": 16,
      "outputs": [
        {
          "output_type": "stream",
          "name": "stdout",
          "text": [
            "[[0.19387086 0.94811291 0.6494416  0.2592758  0.20813845]\n",
            " [0.01821639 0.18991406 0.48308399 0.75403908 0.49953455]\n",
            " [0.19951771 0.04355249 0.33088814 0.40721127 0.04447314]]\n"
          ]
        }
      ]
    },
    {
      "cell_type": "code",
      "source": [
        "import numpy as np\n",
        "\n",
        "np.random.seed(42)\n",
        "random_array = np.random.rand(3, 5)\n",
        "\n",
        "print(random_array)\n"
      ],
      "metadata": {
        "colab": {
          "base_uri": "https://localhost:8080/"
        },
        "id": "zlz8krRehUJL",
        "outputId": "4297d814-c538-406b-d533-4e97269fc5c2"
      },
      "execution_count": 20,
      "outputs": [
        {
          "output_type": "stream",
          "name": "stdout",
          "text": [
            "[[0.37454012 0.95071431 0.73199394 0.59865848 0.15601864]\n",
            " [0.15599452 0.05808361 0.86617615 0.60111501 0.70807258]\n",
            " [0.02058449 0.96990985 0.83244264 0.21233911 0.18182497]]\n"
          ]
        }
      ]
    },
    {
      "cell_type": "code",
      "source": [
        "# Create a random array of numbers between 0 & 10 of size (4, 6)\n",
        "#float\n",
        "import numpy as np\n",
        "\n",
        "# Random float array between 0 and 10, shape (4, 6)\n",
        "random_floats = np.random.uniform(0, 10, size=(4, 6))\n",
        "\n",
        "print(random_floats)\n"
      ],
      "metadata": {
        "colab": {
          "base_uri": "https://localhost:8080/"
        },
        "id": "9Tx3X7HjiHb2",
        "outputId": "b205febd-e856-4413-c200-7fdc1e0eef2f"
      },
      "execution_count": 21,
      "outputs": [
        {
          "output_type": "stream",
          "name": "stdout",
          "text": [
            "[[1.8340451  3.04242243 5.24756432 4.31945019 2.9122914  6.11852895]\n",
            " [1.39493861 2.92144649 3.66361843 4.56069984 7.85175961 1.99673782]\n",
            " [5.14234438 5.92414569 0.46450413 6.07544852 1.70524124 0.65051593]\n",
            " [9.48885537 9.65632033 8.08397348 3.04613769 0.97672114 6.84233027]]\n"
          ]
        }
      ]
    },
    {
      "cell_type": "code",
      "source": [
        "#integer\n",
        "import numpy as np\n",
        "\n",
        "# Random integer array between 0 and 9 (10 is excluded), shape (4, 6)\n",
        "random_integers = np.random.randint(0, 10, size=(4, 6))\n",
        "\n",
        "print(random_integers)\n"
      ],
      "metadata": {
        "colab": {
          "base_uri": "https://localhost:8080/"
        },
        "id": "yrQRwKllicmH",
        "outputId": "3713c765-4daf-410b-c053-8ed4599821bd"
      },
      "execution_count": 22,
      "outputs": [
        {
          "output_type": "stream",
          "name": "stdout",
          "text": [
            "[[6 7 2 0 3 1]\n",
            " [7 3 1 5 5 9]\n",
            " [3 5 1 9 1 9]\n",
            " [3 7 6 8 7 4]]\n"
          ]
        }
      ]
    },
    {
      "cell_type": "code",
      "source": [
        "# Create an array of random numbers between 1 & 10 of size (3, 7)\n",
        "import numpy as np\n",
        "\n",
        "# Create and save the array\n",
        "random_int_array = np.random.randint(1, 11, size=(3, 7))\n",
        "\n",
        "print(random_int_array)\n"
      ],
      "metadata": {
        "colab": {
          "base_uri": "https://localhost:8080/"
        },
        "id": "eCLmUuE7il6e",
        "outputId": "da932241-9f85-41ae-edb5-91bb90346ed5"
      },
      "execution_count": 23,
      "outputs": [
        {
          "output_type": "stream",
          "name": "stdout",
          "text": [
            "[[ 2  5  8 10  9  9  1]\n",
            " [ 9  7  9  8  1  8  8]\n",
            " [ 3  1  8  3  3  1  5]]\n"
          ]
        }
      ]
    },
    {
      "cell_type": "code",
      "source": [
        "#Find the unique numbers in the array you just created\n",
        "import numpy as np\n",
        "\n",
        "# Example: array of random integers between 1 and 10\n",
        "random_int_array = np.random.randint(1, 11, size=(3, 7))\n",
        "\n",
        "# Find unique numbers\n",
        "unique_numbers = np.unique(random_int_array)\n",
        "\n",
        "print(\"Original array:\\n\", random_int_array)\n",
        "print(\"Unique numbers:\", unique_numbers)\n"
      ],
      "metadata": {
        "colab": {
          "base_uri": "https://localhost:8080/"
        },
        "id": "pP4sqoPYj1Nw",
        "outputId": "7a8f313e-25ac-4f3f-ea78-5354506e93ff"
      },
      "execution_count": 25,
      "outputs": [
        {
          "output_type": "stream",
          "name": "stdout",
          "text": [
            "Original array:\n",
            " [[ 1  5 10  7  7  9 10]\n",
            " [10  3  7  1  4  4  5]\n",
            " [ 7  7  4  7  3  6  2]]\n",
            "Unique numbers: [ 1  2  3  4  5  6  7  9 10]\n"
          ]
        }
      ]
    },
    {
      "cell_type": "code",
      "source": [
        "# Get the 0th index (first row)\n",
        "first_row = random_int_array[0]\n",
        "\n",
        "print(\"0th index (first row):\", first_row)\n"
      ],
      "metadata": {
        "colab": {
          "base_uri": "https://localhost:8080/"
        },
        "id": "WYbm6LSOkh-M",
        "outputId": "c77dd6e7-8aea-42e5-83c1-28b3adcf3f10"
      },
      "execution_count": 26,
      "outputs": [
        {
          "output_type": "stream",
          "name": "stdout",
          "text": [
            "0th index (first row): [ 1  5 10  7  7  9 10]\n"
          ]
        }
      ]
    },
    {
      "cell_type": "code",
      "source": [
        "# Get the first 2 rows\n",
        "first_two_rows = random_int_array[:2]\n",
        "\n",
        "print(\"First 2 rows:\\n\", first_two_rows)\n"
      ],
      "metadata": {
        "colab": {
          "base_uri": "https://localhost:8080/"
        },
        "id": "XPt1wiHDk2_H",
        "outputId": "3441faf0-4fd0-4c3d-ac38-f927bcc9de92"
      },
      "execution_count": 27,
      "outputs": [
        {
          "output_type": "stream",
          "name": "stdout",
          "text": [
            "First 2 rows:\n",
            " [[ 1  5 10  7  7  9 10]\n",
            " [10  3  7  1  4  4  5]]\n"
          ]
        }
      ]
    },
    {
      "cell_type": "code",
      "source": [
        "import numpy as np\n",
        "\n",
        "# Random float array between 0 and 10\n",
        "random_array = np.random.uniform(0, 10, size=(3, 5))\n",
        "\n",
        "# Array of ones\n",
        "ones_array = np.ones((3, 5))\n",
        "\n",
        "# Print both arrays\n",
        "print(\"Random Array:\\n\", random_array)\n",
        "print(\"\\nArray of Ones:\\n\", ones_array)\n"
      ],
      "metadata": {
        "colab": {
          "base_uri": "https://localhost:8080/"
        },
        "id": "9ns2JH2AodIb",
        "outputId": "c4e299d7-8d63-4437-822e-0ae10398b4c7"
      },
      "execution_count": 28,
      "outputs": [
        {
          "output_type": "stream",
          "name": "stdout",
          "text": [
            "Random Array:\n",
            " [[6.24354048e+00 2.95633686e+00 1.05494260e+00 4.56534570e+00\n",
            "  2.18440437e+00]\n",
            " [4.16509948e+00 8.83280259e+00 3.24345021e+00 1.22087955e+00\n",
            "  3.56297838e+00]\n",
            " [9.06828442e+00 2.72132249e+00 6.47690121e+00 5.20376995e-03\n",
            "  3.52568856e+00]]\n",
            "\n",
            "Array of Ones:\n",
            " [[1. 1. 1. 1. 1.]\n",
            " [1. 1. 1. 1. 1.]\n",
            " [1. 1. 1. 1. 1.]]\n"
          ]
        }
      ]
    },
    {
      "cell_type": "code",
      "source": [
        "# Add the two arrays\n",
        "sum_array = random_array + ones_array\n",
        "\n",
        "print(\"Sum of random_array and ones_array:\\n\", sum_array)\n"
      ],
      "metadata": {
        "colab": {
          "base_uri": "https://localhost:8080/"
        },
        "id": "rXq7pFmKogUi",
        "outputId": "69fab306-3e9b-4221-a79f-163daa7a7df6"
      },
      "execution_count": 29,
      "outputs": [
        {
          "output_type": "stream",
          "name": "stdout",
          "text": [
            "Sum of random_array and ones_array:\n",
            " [[ 7.24354048  3.95633686  2.0549426   5.5653457   3.18440437]\n",
            " [ 5.16509948  9.83280259  4.24345021  2.22087955  4.56297838]\n",
            " [10.06828442  3.72132249  7.47690121  1.00520377  4.52568856]]\n"
          ]
        }
      ]
    },
    {
      "cell_type": "code",
      "source": [
        "import numpy as np\n",
        "\n",
        "ones_array_5_3 = np.ones((5, 3))\n",
        "\n",
        "print(ones_array_5_3)\n"
      ],
      "metadata": {
        "colab": {
          "base_uri": "https://localhost:8080/"
        },
        "id": "WhYAdW_soykH",
        "outputId": "88319939-83f8-4e68-d12f-3ac550f107fc"
      },
      "execution_count": 30,
      "outputs": [
        {
          "output_type": "stream",
          "name": "stdout",
          "text": [
            "[[1. 1. 1.]\n",
            " [1. 1. 1.]\n",
            " [1. 1. 1.]\n",
            " [1. 1. 1.]\n",
            " [1. 1. 1.]]\n"
          ]
        }
      ]
    },
    {
      "cell_type": "code",
      "source": [
        "sum_array = ones_array + ones_array_5_3.T\n",
        "print(sum_array)\n"
      ],
      "metadata": {
        "colab": {
          "base_uri": "https://localhost:8080/"
        },
        "id": "Syj22RpEpD_R",
        "outputId": "decf6e24-04ae-45a5-a518-bcbcb4a84d44"
      },
      "execution_count": 31,
      "outputs": [
        {
          "output_type": "stream",
          "name": "stdout",
          "text": [
            "[[2. 2. 2. 2. 2.]\n",
            " [2. 2. 2. 2. 2.]\n",
            " [2. 2. 2. 2. 2.]]\n"
          ]
        }
      ]
    },
    {
      "cell_type": "code",
      "source": [
        "import numpy as np\n",
        "\n",
        "another_ones_array = np.ones((3, 5))\n",
        "\n",
        "print(another_ones_array)\n",
        "\n"
      ],
      "metadata": {
        "colab": {
          "base_uri": "https://localhost:8080/"
        },
        "id": "2wN4EvH-qAA8",
        "outputId": "0425e5d3-f972-4da7-ee2e-12f131eac914"
      },
      "execution_count": 32,
      "outputs": [
        {
          "output_type": "stream",
          "name": "stdout",
          "text": [
            "[[1. 1. 1. 1. 1.]\n",
            " [1. 1. 1. 1. 1.]\n",
            " [1. 1. 1. 1. 1.]]\n"
          ]
        }
      ]
    },
    {
      "cell_type": "code",
      "source": [
        "#Subtract the new array of ones from the other most recent array\n",
        "result_array = random_array - another_ones_array\n",
        "\n",
        "print(\"Result of subtraction:\\n\", result_array)\n"
      ],
      "metadata": {
        "colab": {
          "base_uri": "https://localhost:8080/"
        },
        "id": "ME3tw3u_qPr6",
        "outputId": "32fc7ac6-33f0-4965-d665-e25c4e0c8d63"
      },
      "execution_count": 33,
      "outputs": [
        {
          "output_type": "stream",
          "name": "stdout",
          "text": [
            "Result of subtraction:\n",
            " [[ 5.24354048  1.95633686  0.0549426   3.5653457   1.18440437]\n",
            " [ 3.16509948  7.83280259  2.24345021  0.22087955  2.56297838]\n",
            " [ 8.06828442  1.72132249  5.47690121 -0.99479623  2.52568856]]\n"
          ]
        }
      ]
    },
    {
      "cell_type": "code",
      "source": [
        "matrix_product = np.dot(another_ones_array, random_array.T)  # or another_ones_array @ random_array.T\n",
        "print(matrix_product)\n"
      ],
      "metadata": {
        "colab": {
          "base_uri": "https://localhost:8080/"
        },
        "id": "7B15xk-fqcdT",
        "outputId": "aa1a3344-1904-46ef-b7de-425f9b425231"
      },
      "execution_count": 34,
      "outputs": [
        {
          "output_type": "stream",
          "name": "stdout",
          "text": [
            "[[17.00457002 21.02521021 21.79740045]\n",
            " [17.00457002 21.02521021 21.79740045]\n",
            " [17.00457002 21.02521021 21.79740045]]\n"
          ]
        }
      ]
    },
    {
      "cell_type": "code",
      "source": [
        "squared_array = random_array ** 2\n",
        "\n",
        "print(\"Array raised to the power of 2:\\n\", squared_array)\n"
      ],
      "metadata": {
        "colab": {
          "base_uri": "https://localhost:8080/"
        },
        "id": "P7NVWUjbsEv0",
        "outputId": "5da66250-8b2e-44e2-8aa3-3324084951fc"
      },
      "execution_count": 35,
      "outputs": [
        {
          "output_type": "stream",
          "name": "stdout",
          "text": [
            "Array raised to the power of 2:\n",
            " [[3.89817977e+01 8.73992762e+00 1.11290389e+00 2.08423814e+01\n",
            "  4.77162246e+00]\n",
            " [1.73480537e+01 7.80184016e+01 1.05199693e+01 1.49054687e+00\n",
            "  1.26948149e+01]\n",
            " [8.22337822e+01 7.40559612e+00 4.19502492e+01 2.70792217e-05\n",
            "  1.24304798e+01]]\n"
          ]
        }
      ]
    },
    {
      "cell_type": "code",
      "source": [
        "import numpy as np\n",
        "\n",
        "squared_array = np.square(random_array)\n",
        "\n",
        "print(\"Array squared using np.square():\\n\", squared_array)\n"
      ],
      "metadata": {
        "colab": {
          "base_uri": "https://localhost:8080/"
        },
        "id": "qnkC2fowsTal",
        "outputId": "1c22c802-9006-4a92-94b8-1983e1e9f657"
      },
      "execution_count": 36,
      "outputs": [
        {
          "output_type": "stream",
          "name": "stdout",
          "text": [
            "Array squared using np.square():\n",
            " [[3.89817977e+01 8.73992762e+00 1.11290389e+00 2.08423814e+01\n",
            "  4.77162246e+00]\n",
            " [1.73480537e+01 7.80184016e+01 1.05199693e+01 1.49054687e+00\n",
            "  1.26948149e+01]\n",
            " [8.22337822e+01 7.40559612e+00 4.19502492e+01 2.70792217e-05\n",
            "  1.24304798e+01]]\n"
          ]
        }
      ]
    },
    {
      "cell_type": "code",
      "source": [
        "import numpy as np\n",
        "\n",
        "mean_value = np.mean(random_array)\n",
        "\n",
        "print(\"Mean of the array:\", mean_value)\n"
      ],
      "metadata": {
        "colab": {
          "base_uri": "https://localhost:8080/"
        },
        "id": "FjO4t0QKskK5",
        "outputId": "de13cd2e-cd35-497e-8a88-ababce7b77ae"
      },
      "execution_count": 37,
      "outputs": [
        {
          "output_type": "stream",
          "name": "stdout",
          "text": [
            "Mean of the array: 3.9884787112499427\n"
          ]
        }
      ]
    },
    {
      "cell_type": "code",
      "source": [
        "import numpy as np\n",
        "\n",
        "max_value = np.max(random_array)\n",
        "\n",
        "print(\"Maximum value in the array:\", max_value)\n",
        "\n"
      ],
      "metadata": {
        "colab": {
          "base_uri": "https://localhost:8080/"
        },
        "id": "uBiYpgplsmUa",
        "outputId": "ee9217af-7ef6-4b94-9c7b-96d1aa75948d"
      },
      "execution_count": 38,
      "outputs": [
        {
          "output_type": "stream",
          "name": "stdout",
          "text": [
            "Maximum value in the array: 9.06828441545754\n"
          ]
        }
      ]
    },
    {
      "cell_type": "code",
      "source": [
        "import numpy as np\n",
        "\n",
        "min_value = np.min(random_array)\n",
        "\n",
        "print(\"Minimum value in the array:\", min_value)\n"
      ],
      "metadata": {
        "colab": {
          "base_uri": "https://localhost:8080/"
        },
        "id": "KPHBbEuVsu_k",
        "outputId": "6d4986e4-9840-4525-89fe-553b1c22e3e8"
      },
      "execution_count": 39,
      "outputs": [
        {
          "output_type": "stream",
          "name": "stdout",
          "text": [
            "Minimum value in the array: 0.005203769953158188\n"
          ]
        }
      ]
    },
    {
      "cell_type": "code",
      "source": [
        "#Find the standard deviation of the latest array\n",
        "import numpy as np\n",
        "random_array = np.random.uniform(0, 10, size=(3, 5))\n",
        "\n",
        "std_dev = np.std(random_array)\n",
        "\n",
        "print(\"Standard deviation of the array:\", std_dev)\n"
      ],
      "metadata": {
        "colab": {
          "base_uri": "https://localhost:8080/"
        },
        "id": "rpbgeESJm-_i",
        "outputId": "769201ae-2523-4e3e-f235-55859cbead5e"
      },
      "execution_count": 2,
      "outputs": [
        {
          "output_type": "stream",
          "name": "stdout",
          "text": [
            "Standard deviation of the array: 2.830132145747698\n"
          ]
        }
      ]
    },
    {
      "cell_type": "code",
      "source": [
        "# Find the variance of the latest array\n",
        "import numpy as np\n",
        "\n",
        "variance = np.var(random_array)\n",
        "\n",
        "print(\"Variance of the array:\", variance)\n"
      ],
      "metadata": {
        "colab": {
          "base_uri": "https://localhost:8080/"
        },
        "id": "xBLOFNa-ncJd",
        "outputId": "fe769d3b-386c-416e-b9d2-589042dc6eba"
      },
      "execution_count": 3,
      "outputs": [
        {
          "output_type": "stream",
          "name": "stdout",
          "text": [
            "Variance of the array: 8.00964796239447\n"
          ]
        }
      ]
    },
    {
      "cell_type": "code",
      "source": [
        "# Reshape the latest array to (3, 5, 1)\n",
        "import numpy as np\n",
        "\n",
        "array = np.random.rand(3,5)\n",
        "random_array = array.reshape((3, 5, 1))\n",
        "print(random_array)\n"
      ],
      "metadata": {
        "colab": {
          "base_uri": "https://localhost:8080/"
        },
        "id": "2CdQdPaqnt5E",
        "outputId": "943e95f3-78df-42f8-ed73-4bf0fc24aace"
      },
      "execution_count": 7,
      "outputs": [
        {
          "output_type": "stream",
          "name": "stdout",
          "text": [
            "[[[0.09510484]\n",
            "  [0.18355818]\n",
            "  [0.47464956]\n",
            "  [0.22047959]\n",
            "  [0.62591495]]\n",
            "\n",
            " [[0.57402924]\n",
            "  [0.97806034]\n",
            "  [0.38589969]\n",
            "  [0.31267918]\n",
            "  [0.49758992]]\n",
            "\n",
            " [[0.0060494 ]\n",
            "  [0.86212212]\n",
            "  [0.90694625]\n",
            "  [0.29459349]\n",
            "  [0.14425713]]]\n"
          ]
        }
      ]
    },
    {
      "cell_type": "code",
      "source": [
        "# Transpose the latest array\n",
        "import numpy as np\n",
        "\n",
        "# Example array of shape (3, 5, 1)\n",
        "array = np.arange(15).reshape(3, 5, 1)\n",
        "\n",
        "# Transpose the array - specify the axes order\n",
        "transposed_array = array.transpose(1, 0, 2)\n",
        "print(transposed_array)"
      ],
      "metadata": {
        "colab": {
          "base_uri": "https://localhost:8080/"
        },
        "id": "I2O--YiDoaUU",
        "outputId": "15cfef9a-0f7f-423b-a6b1-3feafedcbf54"
      },
      "execution_count": 9,
      "outputs": [
        {
          "output_type": "stream",
          "name": "stdout",
          "text": [
            "[[[ 0]\n",
            "  [ 5]\n",
            "  [10]]\n",
            "\n",
            " [[ 1]\n",
            "  [ 6]\n",
            "  [11]]\n",
            "\n",
            " [[ 2]\n",
            "  [ 7]\n",
            "  [12]]\n",
            "\n",
            " [[ 3]\n",
            "  [ 8]\n",
            "  [13]]\n",
            "\n",
            " [[ 4]\n",
            "  [ 9]\n",
            "  [14]]]\n"
          ]
        }
      ]
    },
    {
      "cell_type": "code",
      "source": [
        "# Create two arrays of random integers between 0 to 10\n",
        "# one of size (3, 3) the other of size (3, 2)\n",
        "import numpy as np\n",
        "\n",
        "# Set seed for reproducibility (optional)\n",
        "np.random.seed(0)\n",
        "\n",
        "# First array of size (3, 3)\n",
        "array1 = np.random.randint(0, 11, size=(3, 3))\n",
        "\n",
        "# Second array of size (3, 2)\n",
        "array2 = np.random.randint(0, 11, size=(3, 2))\n",
        "\n",
        "print(\"Array 1 (3x3):\")\n",
        "print(array1)\n",
        "\n",
        "print(\"\\nArray 2 (3x2):\")\n",
        "print(array2)\n"
      ],
      "metadata": {
        "colab": {
          "base_uri": "https://localhost:8080/"
        },
        "id": "wjPOW71ApBB0",
        "outputId": "642dbcde-5cf7-4cad-d23e-448980760d33"
      },
      "execution_count": 10,
      "outputs": [
        {
          "output_type": "stream",
          "name": "stdout",
          "text": [
            "Array 1 (3x3):\n",
            "[[5 0 3]\n",
            " [3 7 9]\n",
            " [3 5 2]]\n",
            "\n",
            "Array 2 (3x2):\n",
            "[[ 4  7]\n",
            " [ 6  8]\n",
            " [ 8 10]]\n"
          ]
        }
      ]
    },
    {
      "cell_type": "code",
      "source": [
        "# Perform a dot product on the two newest arrays you created\n",
        "import numpy as np\n",
        "\n",
        "# Assuming array1 and array2 are defined as above\n",
        "result = np.dot(array1, array2)\n",
        "# Or equivalently: result = array1 @ array2\n",
        "\n",
        "print(\"Dot product result (shape should be 3x2):\")\n",
        "print(result)\n"
      ],
      "metadata": {
        "colab": {
          "base_uri": "https://localhost:8080/"
        },
        "id": "CTdvdCnfpOe4",
        "outputId": "662cb672-57b2-4582-f7f1-ab723b43b817"
      },
      "execution_count": 11,
      "outputs": [
        {
          "output_type": "stream",
          "name": "stdout",
          "text": [
            "Dot product result (shape should be 3x2):\n",
            "[[ 44  65]\n",
            " [126 167]\n",
            " [ 58  81]]\n"
          ]
        }
      ]
    },
    {
      "cell_type": "code",
      "source": [
        "#Take the latest two arrays, perform a transpose on one of them and then perform\n",
        "# a dot product on them both\n",
        "import numpy as np\n",
        "\n",
        "# Example arrays that would yield a 3x2 result\n",
        "array1 = np.array([[1, 2, 3],\n",
        "                   [4, 5, 6],\n",
        "                   [7, 8, 9]])  # shape: (3, 3)\n",
        "\n",
        "array2 = np.array([[1, 0],\n",
        "                   [0, 1],\n",
        "                   [1, 1]])      # shape: (3, 2)\n",
        "\n",
        "# Perform the dot product\n",
        "result = np.dot(array1, array2)\n",
        "\n",
        "print(\"Dot product result (shape should be 3x2):\")\n",
        "print(result)\n"
      ],
      "metadata": {
        "colab": {
          "base_uri": "https://localhost:8080/"
        },
        "id": "IRYvN0b5qE1J",
        "outputId": "d8d2736e-8599-418b-d7c2-f6b867f98a3b"
      },
      "execution_count": 12,
      "outputs": [
        {
          "output_type": "stream",
          "name": "stdout",
          "text": [
            "Dot product result (shape should be 3x2):\n",
            "[[ 4  5]\n",
            " [10 11]\n",
            " [16 17]]\n"
          ]
        }
      ]
    },
    {
      "cell_type": "code",
      "source": [
        "import numpy as np\n",
        "\n",
        "# Set a shape, e.g., 3x3\n",
        "shape = (3, 3)\n",
        "\n",
        "# Create two arrays of random integers between 0 and 10\n",
        "array1 = np.random.randint(0, 11, size=shape)\n",
        "array2 = np.random.randint(0, 11, size=shape)\n",
        "\n",
        "print(\"Array 1:\")\n",
        "print(array1)\n",
        "print(\"\\nArray 2:\")\n",
        "print(array2)\n"
      ],
      "metadata": {
        "colab": {
          "base_uri": "https://localhost:8080/"
        },
        "id": "qiofljcBrSGn",
        "outputId": "02b28a7d-d344-4d04-f660-97088635647d"
      },
      "execution_count": 13,
      "outputs": [
        {
          "output_type": "stream",
          "name": "stdout",
          "text": [
            "Array 1:\n",
            "[[1 6 7]\n",
            " [7 8 1]\n",
            " [5 9 8]]\n",
            "\n",
            "Array 2:\n",
            "[[9 4 3]\n",
            " [0 3 5]\n",
            " [0 2 3]]\n"
          ]
        }
      ]
    },
    {
      "cell_type": "code",
      "source": [
        "# Compare the two arrays with '>'\n",
        "comparison = array1 > array2\n",
        "\n",
        "print(\"Comparison result (array1 > array2):\")\n",
        "print(comparison)\n"
      ],
      "metadata": {
        "colab": {
          "base_uri": "https://localhost:8080/"
        },
        "id": "8YNEtALirYoE",
        "outputId": "85e49c43-4d7e-4574-b76b-cbff6b62b3f3"
      },
      "execution_count": 14,
      "outputs": [
        {
          "output_type": "stream",
          "name": "stdout",
          "text": [
            "Comparison result (array1 > array2):\n",
            "[[False  True  True]\n",
            " [ True  True False]\n",
            " [ True  True  True]]\n"
          ]
        }
      ]
    },
    {
      "cell_type": "code",
      "source": [
        "# Compare the two arrays with '>='\n",
        "comparison = array1 >= array2\n",
        "\n",
        "print(\"Comparison result (array1 >= array2):\")\n",
        "print(comparison)\n"
      ],
      "metadata": {
        "colab": {
          "base_uri": "https://localhost:8080/"
        },
        "id": "FqEilnedrh-Y",
        "outputId": "d8ea954b-457b-4352-e93b-adcedd5790f1"
      },
      "execution_count": 15,
      "outputs": [
        {
          "output_type": "stream",
          "name": "stdout",
          "text": [
            "Comparison result (array1 >= array2):\n",
            "[[False  True  True]\n",
            " [ True  True False]\n",
            " [ True  True  True]]\n"
          ]
        }
      ]
    },
    {
      "cell_type": "code",
      "source": [
        "# Find which elements of the first array are greater than 7\n",
        "greater_than_7 = array1 > 7\n",
        "\n",
        "print(\"Elements of array1 greater than 7 (as a Boolean mask):\")\n",
        "print(greater_than_7)\n"
      ],
      "metadata": {
        "colab": {
          "base_uri": "https://localhost:8080/"
        },
        "id": "sGcblZ2FrnMH",
        "outputId": "9240592f-3005-4f9c-cb0b-44531c60d701"
      },
      "execution_count": 16,
      "outputs": [
        {
          "output_type": "stream",
          "name": "stdout",
          "text": [
            "Elements of array1 greater than 7 (as a Boolean mask):\n",
            "[[False False False]\n",
            " [False  True False]\n",
            " [False  True  True]]\n"
          ]
        }
      ]
    },
    {
      "cell_type": "code",
      "source": [
        "# Which parts of each array are equal? (try using '==')\n",
        "equal_elements = array1 == array2\n",
        "\n",
        "print(\"Elements where array1 and array2 are equal (Boolean mask):\")\n",
        "print(equal_elements)\n"
      ],
      "metadata": {
        "colab": {
          "base_uri": "https://localhost:8080/"
        },
        "id": "pCmswVvJrxF1",
        "outputId": "6eaa0edd-313e-4636-a4ee-c82bd5317835"
      },
      "execution_count": 17,
      "outputs": [
        {
          "output_type": "stream",
          "name": "stdout",
          "text": [
            "Elements where array1 and array2 are equal (Boolean mask):\n",
            "[[False False False]\n",
            " [False False False]\n",
            " [False False False]]\n"
          ]
        }
      ]
    },
    {
      "cell_type": "code",
      "source": [
        "# Sort one of the arrays you just created in ascending order\n",
        "# Sort each column in ascending order\n",
        "sorted_cols = np.sort(array1, axis=0)\n",
        "print(\"Array1 sorted along columns:\")\n",
        "print(sorted_cols)\n"
      ],
      "metadata": {
        "colab": {
          "base_uri": "https://localhost:8080/"
        },
        "id": "SztTEfYlr-Fu",
        "outputId": "eaf589de-3b97-4aa2-9a0b-958d8f979c92"
      },
      "execution_count": 18,
      "outputs": [
        {
          "output_type": "stream",
          "name": "stdout",
          "text": [
            "Array1 sorted along columns:\n",
            "[[1 6 1]\n",
            " [5 8 7]\n",
            " [7 9 8]]\n"
          ]
        }
      ]
    },
    {
      "cell_type": "code",
      "source": [
        "# Sort the indexes of one of the arrays you just created\n",
        "# Sorted indices along each row\n",
        "sorted_indices_rows = np.argsort(array1, axis=1)\n",
        "print(\"Indices that would sort array1 along each row:\")\n",
        "print(sorted_indices_rows)\n",
        "\n",
        "# Sorted indices along each column\n",
        "sorted_indices_cols = np.argsort(array1, axis=0)\n",
        "print(\"Indices that would sort array1 along each column:\")\n",
        "print(sorted_indices_cols)\n",
        "\n"
      ],
      "metadata": {
        "colab": {
          "base_uri": "https://localhost:8080/"
        },
        "id": "Qgxwvsw5sNKr",
        "outputId": "258e429e-4e76-4c08-f9b7-8a734233cdcb"
      },
      "execution_count": 19,
      "outputs": [
        {
          "output_type": "stream",
          "name": "stdout",
          "text": [
            "Indices that would sort array1 along each row:\n",
            "[[0 1 2]\n",
            " [2 0 1]\n",
            " [0 2 1]]\n",
            "Indices that would sort array1 along each column:\n",
            "[[0 0 1]\n",
            " [2 1 0]\n",
            " [1 2 2]]\n"
          ]
        }
      ]
    },
    {
      "cell_type": "code",
      "source": [
        "# Find the index with the maximum value in one of the arrays you've created\n",
        "max_index_flat = np.argmax(array1)\n",
        "print(\"Index of maximum value in array1 (flattened):\", max_index_flat)\n"
      ],
      "metadata": {
        "colab": {
          "base_uri": "https://localhost:8080/"
        },
        "id": "gYPbqb0VtDN0",
        "outputId": "b988a574-d64c-4e10-caa8-968835ca3d6d"
      },
      "execution_count": 21,
      "outputs": [
        {
          "output_type": "stream",
          "name": "stdout",
          "text": [
            "Index of maximum value in array1 (flattened): 7\n"
          ]
        }
      ]
    },
    {
      "cell_type": "code",
      "source": [
        "max_index_multi = np.unravel_index(max_index_flat, array1.shape)\n",
        "print(\"Index of maximum value in array1 (multi-dimensional):\", max_index_multi)\n"
      ],
      "metadata": {
        "colab": {
          "base_uri": "https://localhost:8080/"
        },
        "id": "6AA4dozTtbvJ",
        "outputId": "d3bbbc20-a1da-4cec-a221-6d232a8c4c7d"
      },
      "execution_count": 22,
      "outputs": [
        {
          "output_type": "stream",
          "name": "stdout",
          "text": [
            "Index of maximum value in array1 (multi-dimensional): (np.int64(2), np.int64(1))\n"
          ]
        }
      ]
    },
    {
      "cell_type": "code",
      "source": [
        "# Find the index with the minimum value in one of the arrays you've created\n",
        "min_index_flat = np.argmin(array1)\n",
        "print(\"Index of minimum value in array1 (flattened):\", min_index_flat)\n",
        "\n",
        "# Convert flattened index to multi-dimensional index\n",
        "min_index_multi = np.unravel_index(min_index_flat, array1.shape)\n",
        "print(\"Index of minimum value in array1 (multi-dimensional):\", min_index_multi)\n"
      ],
      "metadata": {
        "colab": {
          "base_uri": "https://localhost:8080/"
        },
        "id": "n5E_vq_0tmr6",
        "outputId": "6026c989-42ef-4987-ec65-557983730559"
      },
      "execution_count": 23,
      "outputs": [
        {
          "output_type": "stream",
          "name": "stdout",
          "text": [
            "Index of minimum value in array1 (flattened): 0\n",
            "Index of minimum value in array1 (multi-dimensional): (np.int64(0), np.int64(0))\n"
          ]
        }
      ]
    },
    {
      "cell_type": "code",
      "source": [
        "# Find the indexes with the maximum values down the 1st axis (axis=1)\n",
        "# of one of the arrays you created\n",
        "max_indices_axis1 = np.argmax(array1, axis=1)\n",
        "\n",
        "print(\"Indexes of max values along axis=1 (per row) in array1:\")\n",
        "print(max_indices_axis1)\n"
      ],
      "metadata": {
        "colab": {
          "base_uri": "https://localhost:8080/"
        },
        "id": "sVtMjawXtvS8",
        "outputId": "35404235-56b8-48fb-e62f-4f352a4f7113"
      },
      "execution_count": 24,
      "outputs": [
        {
          "output_type": "stream",
          "name": "stdout",
          "text": [
            "Indexes of max values along axis=1 (per row) in array1:\n",
            "[2 1 1]\n"
          ]
        }
      ]
    },
    {
      "cell_type": "code",
      "source": [
        "# Find the indexes with the minimum values across the 0th axis (axis=0)\n",
        "# of one of the arrays you created\n",
        "min_indices_axis0 = np.argmin(array1, axis=0)\n",
        "\n",
        "print(\"Indexes of min values along axis=0 (per column) in array1:\")\n",
        "print(min_indices_axis0)\n",
        "\n"
      ],
      "metadata": {
        "colab": {
          "base_uri": "https://localhost:8080/"
        },
        "id": "3VmslHbkuB0-",
        "outputId": "e5212f93-9055-4c43-cf57-2e8f107707a5"
      },
      "execution_count": 25,
      "outputs": [
        {
          "output_type": "stream",
          "name": "stdout",
          "text": [
            "Indexes of min values along axis=0 (per column) in array1:\n",
            "[0 0 1]\n"
          ]
        }
      ]
    },
    {
      "cell_type": "code",
      "source": [
        "# Create an array of normally distributed random numbers\n",
        "import numpy as np\n",
        "\n",
        "# Parameters for the normal distribution\n",
        "mean = 0        # mean of the distribution\n",
        "std_dev = 1     # standard deviation\n",
        "shape = (3, 3)  # shape of the output array\n",
        "\n",
        "# Generate the array\n",
        "normal_array = np.random.normal(loc=mean, scale=std_dev, size=shape)\n",
        "\n",
        "print(\"Array of normally distributed random numbers:\")\n",
        "print(normal_array)\n"
      ],
      "metadata": {
        "colab": {
          "base_uri": "https://localhost:8080/"
        },
        "id": "KdvtyIn0uPdh",
        "outputId": "a74fb6a1-de30-4cc0-e815-8c660f52bbc3"
      },
      "execution_count": 26,
      "outputs": [
        {
          "output_type": "stream",
          "name": "stdout",
          "text": [
            "Array of normally distributed random numbers:\n",
            "[[-0.18158257  1.41020463 -0.37447169]\n",
            " [ 0.27519832 -0.96075461  0.37692697]\n",
            " [ 0.03343893  0.68056724 -1.56349669]]\n"
          ]
        }
      ]
    },
    {
      "cell_type": "code",
      "source": [
        "# Create an array with 10 evenly spaced numbers between 1 and 100\n",
        "import numpy as np\n",
        "\n",
        "evenly_spaced = np.linspace(1, 100, 10)\n",
        "\n",
        "print(\"10 evenly spaced numbers between 1 and 100:\")\n",
        "print(evenly_spaced)\n"
      ],
      "metadata": {
        "colab": {
          "base_uri": "https://localhost:8080/"
        },
        "id": "EikID9DFuT8j",
        "outputId": "9aff346c-aa20-41b5-9897-df7e37c040c5"
      },
      "execution_count": 27,
      "outputs": [
        {
          "output_type": "stream",
          "name": "stdout",
          "text": [
            "10 evenly spaced numbers between 1 and 100:\n",
            "[  1.  12.  23.  34.  45.  56.  67.  78.  89. 100.]\n"
          ]
        }
      ]
    }
  ]
}